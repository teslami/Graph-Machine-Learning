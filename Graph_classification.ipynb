{
 "cells": [
  {
   "cell_type": "markdown",
   "id": "a2f347a4",
   "metadata": {},
   "source": [
    "## Graph Classification"
   ]
  },
  {
   "cell_type": "code",
   "execution_count": 10,
   "id": "5f374fe2",
   "metadata": {},
   "outputs": [],
   "source": [
    "#  dataset from https://snap.stanford.edu/data/deezer_ego_nets.html\n",
    "import json\n",
    "import numpy as np\n",
    "import pandas as pd\n",
    "\n",
    "from torch_geometric.data import Data"
   ]
  },
  {
   "cell_type": "code",
   "execution_count": 11,
   "id": "b3056abc",
   "metadata": {},
   "outputs": [],
   "source": [
    "with open('deezer_ego_nets/deezer_edges.json') as f:\n",
    "    graphs = json.load(f)\n"
   ]
  },
  {
   "cell_type": "code",
   "execution_count": 12,
   "id": "2491f650",
   "metadata": {},
   "outputs": [],
   "source": [
    "graph_labels = pd.read_csv('deezer_ego_nets/deezer_target.csv')"
   ]
  },
  {
   "cell_type": "code",
   "execution_count": 13,
   "id": "27ee556b",
   "metadata": {},
   "outputs": [],
   "source": [
    "def creat_graph(edge_list, label):\n",
    "    '''\n",
    "    creates torch geometric graph from \n",
    "    edge list and target\n",
    "    '''\n",
    "    edge_list = np.array(edge_list).T\n",
    "    graph = Data(edge_index = edge_list, label=label)\n",
    "    return graph"
   ]
  },
  {
   "cell_type": "code",
   "execution_count": 14,
   "id": "50cb25ac",
   "metadata": {},
   "outputs": [],
   "source": [
    "graph_labels = graph_labels['target'].to_numpy()"
   ]
  },
  {
   "cell_type": "code",
   "execution_count": 15,
   "id": "7e786680",
   "metadata": {},
   "outputs": [],
   "source": [
    "all_graphs = []\n",
    "for i, key in enumerate(graphs.keys()):\n",
    "    all_graphs.append(creat_graph(graphs[str(key)], graph_labels[i]))\n",
    "    \n",
    "    "
   ]
  }
 ],
 "metadata": {
  "kernelspec": {
   "display_name": "Python 3 (ipykernel)",
   "language": "python",
   "name": "python3"
  },
  "language_info": {
   "codemirror_mode": {
    "name": "ipython",
    "version": 3
   },
   "file_extension": ".py",
   "mimetype": "text/x-python",
   "name": "python",
   "nbconvert_exporter": "python",
   "pygments_lexer": "ipython3",
   "version": "3.9.7"
  }
 },
 "nbformat": 4,
 "nbformat_minor": 5
}
