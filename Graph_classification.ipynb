{
 "cells": [
  {
   "cell_type": "markdown",
   "id": "a2f347a4",
   "metadata": {},
   "source": [
    "## Graph Classification"
   ]
  },
  {
   "cell_type": "code",
   "execution_count": 1,
   "id": "5f374fe2",
   "metadata": {},
   "outputs": [
    {
     "name": "stderr",
     "output_type": "stream",
     "text": [
      "/Users/tabaneslami/opt/anaconda3/lib/python3.9/site-packages/pandas/core/arrays/masked.py:60: UserWarning: Pandas requires version '1.3.6' or newer of 'bottleneck' (version '1.3.2' currently installed).\n",
      "  from pandas.core import (\n"
     ]
    }
   ],
   "source": [
    "#  dataset from https://snap.stanford.edu/data/deezer_ego_nets.html\n",
    "import json\n",
    "import numpy as np\n",
    "import pandas as pd\n",
    "\n",
    "import torch\n",
    "from torch.nn import Linear\n",
    "from torch_geometric.data import Data\n",
    "from torch_geometric.loader import DataLoader\n",
    "from torch_geometric.nn import GCNConv, global_mean_pool"
   ]
  },
  {
   "cell_type": "code",
   "execution_count": 2,
   "id": "b3056abc",
   "metadata": {},
   "outputs": [],
   "source": [
    "with open('deezer_ego_nets/deezer_edges.json') as f:\n",
    "    graphs = json.load(f)\n"
   ]
  },
  {
   "cell_type": "code",
   "execution_count": 3,
   "id": "2491f650",
   "metadata": {},
   "outputs": [],
   "source": [
    "graph_labels = pd.read_csv('deezer_ego_nets/deezer_target.csv')\n",
    "graph_labels = graph_labels['target'].to_numpy()"
   ]
  },
  {
   "cell_type": "code",
   "execution_count": 4,
   "id": "27ee556b",
   "metadata": {},
   "outputs": [],
   "source": [
    "def creat_graph(edge_list, label):\n",
    "    '''\n",
    "    creates torch geometric graph from \n",
    "    edge list and target\n",
    "    '''\n",
    "    edge_list = torch.tensor(np.array(edge_list).T)\n",
    "    label = torch.tensor(label)\n",
    "    feature_vector = torch.ones((torch.max(edge_list).item()+1),1)\n",
    "    graph = Data(x=feature_vector, edge_index = edge_list, label = label)\n",
    "    return graph"
   ]
  },
  {
   "cell_type": "code",
   "execution_count": 5,
   "id": "7e786680",
   "metadata": {},
   "outputs": [],
   "source": [
    "all_graphs = []\n",
    "for i, key in enumerate(graphs.keys()):\n",
    "    all_graphs.append(creat_graph(graphs[str(key)], graph_labels[i]))\n",
    "    \n",
    "train_loader = DataLoader(all_graphs, batch_size=2, shuffle=True)\n"
   ]
  },
  {
   "cell_type": "code",
   "execution_count": 6,
   "id": "ea91c1bf",
   "metadata": {},
   "outputs": [],
   "source": [
    "class graph_classifier(torch.nn.Module):\n",
    "    def __init__(self, num_features, hidden_channel_1, hidden_channnel2, num_class):\n",
    "        super(graph_classifier, self).__init__()\n",
    "        self.conv1 = GCNConv(num_features, hidden_channel_1)\n",
    "        self.conv2 = GCNConv(hidden_channel_1, hidden_channnel2)\n",
    "        self.linear = Linear(hidden_channnel2, num_class)\n",
    "    def forward(self, x, edge_index, batch):\n",
    "        x = self.conv1(x, edge_index)\n",
    "        x = x.relu()\n",
    "        x = self.conv2(x, edge_index)\n",
    "        x = x.relu()\n",
    "        x = global_mean_pool(x, batch)\n",
    "        x = self.linear(x)\n",
    "        return x"
   ]
  },
  {
   "cell_type": "code",
   "execution_count": 8,
   "id": "3d6367c4",
   "metadata": {},
   "outputs": [],
   "source": [
    "model = graph_classifier(1, 20, 10, 2)\n"
   ]
  },
  {
   "cell_type": "code",
   "execution_count": 10,
   "id": "b23eeacb",
   "metadata": {},
   "outputs": [],
   "source": [
    "for i, data in enumerate(train_loader):\n",
    "    out = model(data.x, data.edge_index, data.batch)"
   ]
  },
  {
   "cell_type": "code",
   "execution_count": null,
   "id": "ad27cee4",
   "metadata": {},
   "outputs": [],
   "source": []
  }
 ],
 "metadata": {
  "kernelspec": {
   "display_name": "Python 3 (ipykernel)",
   "language": "python",
   "name": "python3"
  },
  "language_info": {
   "codemirror_mode": {
    "name": "ipython",
    "version": 3
   },
   "file_extension": ".py",
   "mimetype": "text/x-python",
   "name": "python",
   "nbconvert_exporter": "python",
   "pygments_lexer": "ipython3",
   "version": "3.9.7"
  }
 },
 "nbformat": 4,
 "nbformat_minor": 5
}
