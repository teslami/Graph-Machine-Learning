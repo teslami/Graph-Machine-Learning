{
 "cells": [
  {
   "cell_type": "markdown",
   "id": "a2f347a4",
   "metadata": {},
   "source": [
    "## Convolution"
   ]
  },
  {
   "cell_type": "markdown",
   "id": "251a1cea",
   "metadata": {},
   "source": [
    "### 1D convolution\n",
    "* Convolution is a mathematical operation for combining two functions, one of the functions (in this case g) is usually called a kernel\n",
    "* $(f*g)[j] = \\sum_{i=0} ^n f[i]*g[n-i]$\n",
    "   * $n$ is the lenght of the kernel g\n",
    "* This equation is not directly applicable to graphs since graph don't follow a regula strcuture\n",
    "* There is a direct relationship between Convolution and Frourier transformation\n",
    "* Fourier transformation is directly related to Laplacian opertator; hence, convolution can be computed based on Fourier transformation and propertise of the laplacian.\n",
    "* In the context of graph convolution, Laplacian of a graph is used for defining Convolution operation on the graphs."
   ]
  },
  {
   "cell_type": "markdown",
   "id": "f4dc0806",
   "metadata": {},
   "source": [
    "## Graph convolution using PyTorch Geometric\n"
   ]
  },
  {
   "cell_type": "code",
   "execution_count": 1,
   "id": "8ede0918",
   "metadata": {},
   "outputs": [],
   "source": [
    "import torch\n",
    "import networkx as nx\n",
    "\n",
    "from torch_geometric.datasets import ZINC\n",
    "from torch_geometric.utils import to_networkx\n",
    "\n",
    "from torch_geometric.nn import GCNConv"
   ]
  },
  {
   "cell_type": "code",
   "execution_count": 2,
   "id": "61a90d02",
   "metadata": {},
   "outputs": [],
   "source": [
    "#  ! pip install torch_sparse"
   ]
  },
  {
   "cell_type": "code",
   "execution_count": 3,
   "id": "42803ea7",
   "metadata": {},
   "outputs": [
    {
     "name": "stderr",
     "output_type": "stream",
     "text": [
      "Downloading https://www.dropbox.com/s/feo9qle74kg48gy/molecules.zip?dl=1\n",
      "Extracting dataset/molecules.zip\n",
      "Downloading https://raw.githubusercontent.com/graphdeeplearning/benchmarking-gnns/master/data/molecules/train.index\n",
      "Downloading https://raw.githubusercontent.com/graphdeeplearning/benchmarking-gnns/master/data/molecules/val.index\n",
      "Downloading https://raw.githubusercontent.com/graphdeeplearning/benchmarking-gnns/master/data/molecules/test.index\n",
      "Processing...\n",
      "Processing train dataset: 100%|██████████████████████████████████████████████████████████████████████████████████████████████████████████████████████████████████| 220011/220011 [00:13<00:00, 16137.79it/s]\n",
      "Processing val dataset: 100%|██████████████████████████████████████████████████████████████████████████████████████████████████████████████████████████████████████| 24445/24445 [00:02<00:00, 10288.24it/s]\n",
      "Processing test dataset: 100%|███████████████████████████████████████████████████████████████████████████████████████████████████████████████████████████████████████| 5000/5000 [00:00<00:00, 15254.59it/s]\n",
      "Done!\n"
     ]
    }
   ],
   "source": [
    "graph_dataset = ZINC(root='dataset')"
   ]
  },
  {
   "cell_type": "code",
   "execution_count": 4,
   "id": "ae2d692f",
   "metadata": {},
   "outputs": [],
   "source": [
    "graph = graph_dataset[2]"
   ]
  },
  {
   "cell_type": "code",
   "execution_count": 5,
   "id": "36a37192",
   "metadata": {},
   "outputs": [
    {
     "data": {
      "text/plain": [
       "Data(x=[26, 1], edge_index=[2, 58], edge_attr=[58], y=[1])"
      ]
     },
     "execution_count": 5,
     "metadata": {},
     "output_type": "execute_result"
    }
   ],
   "source": [
    "graph"
   ]
  },
  {
   "cell_type": "code",
   "execution_count": 6,
   "id": "d0364ccb",
   "metadata": {},
   "outputs": [
    {
     "data": {
      "image/png": "[encoded data removed]",
      "text/plain": [
       "<Figure size 432x288 with 1 Axes>"
      ]
     },
     "metadata": {},
     "output_type": "display_data"
    }
   ],
   "source": [
    "G = to_networkx(graph)\n",
    "nx.draw(G, node_size=15,arrows=False)"
   ]
  },
  {
   "cell_type": "code",
   "execution_count": 7,
   "id": "54a57300",
   "metadata": {},
   "outputs": [
    {
     "name": "stdout",
     "output_type": "stream",
     "text": [
      "torch.Size([26, 32])\n"
     ]
    }
   ],
   "source": [
    "conv_operator = GCNConv(in_channels=1, out_channels=32)\n",
    "output_conv = conv_operator(graph.x.float(), graph.edge_index)\n",
    "print(output_conv.shape)"
   ]
  },
  {
   "cell_type": "code",
   "execution_count": null,
   "id": "5f374fe2",
   "metadata": {},
   "outputs": [],
   "source": []
  }
 ],
 "metadata": {
  "kernelspec": {
   "display_name": "Python 3 (ipykernel)",
   "language": "python",
   "name": "python3"
  },
  "language_info": {
   "codemirror_mode": {
    "name": "ipython",
    "version": 3
   },
   "file_extension": ".py",
   "mimetype": "text/x-python",
   "name": "python",
   "nbconvert_exporter": "python",
   "pygments_lexer": "ipython3",
   "version": "3.9.7"
  }
 },
 "nbformat": 4,
 "nbformat_minor": 5
}
